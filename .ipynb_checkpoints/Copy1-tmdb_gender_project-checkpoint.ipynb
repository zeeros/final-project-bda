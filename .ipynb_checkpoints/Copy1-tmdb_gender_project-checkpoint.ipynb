{
 "cells": [
  {
   "cell_type": "markdown",
   "metadata": {},
   "source": [
    "## Problem description"
   ]
  },
  {
   "cell_type": "markdown",
   "metadata": {},
   "source": [
    "## Data gathering and storage"
   ]
  },
  {
   "cell_type": "markdown",
   "metadata": {},
   "source": [
    "![title](img/responses.jpg)"
   ]
  },
  {
   "cell_type": "markdown",
   "metadata": {},
   "source": [
    "![title](img/credits.jpg)"
   ]
  },
  {
   "cell_type": "code",
   "execution_count": 1,
   "metadata": {},
   "outputs": [],
   "source": [
    "import tmdbsimple as tmdb\n",
    "import time\n",
    "from requests import HTTPError\n",
    "\n",
    "tmdb.API_KEY = '34ed3ca4d3adae63d1bed1b1598bfbbb'"
   ]
  },
  {
   "cell_type": "code",
   "execution_count": 2,
   "metadata": {},
   "outputs": [],
   "source": [
    "import sys\n",
    "from pymongo import MongoClient\n",
    "import json\n",
    "\n",
    "client = MongoClient('localhost', 27017, username='mongoadmin', password='pass1234')\n",
    "database = client['bda']"
   ]
  },
  {
   "cell_type": "code",
   "execution_count": null,
   "metadata": {},
   "outputs": [
    {
     "name": "stdout",
     "output_type": "stream",
     "text": [
      "Retrieving movies for year 2020...\n",
      "Done in 19.0 minutes\n",
      "Retrieving movies for year 2019...\n",
      "Done in 17.0 minutes\n",
      "Retrieving movies for year 2018...\n",
      "Done in 31.0 minutes\n",
      "Retrieving movies for year 2017...\n",
      "Done in 32.0 minutes\n",
      "Retrieving movies for year 2016...\n",
      "Done in 32.0 minutes\n",
      "Retrieving movies for year 2015...\n",
      "Done in 32.0 minutes\n",
      "Retrieving movies for year 2014...\n",
      "Done in 32.0 minutes\n",
      "Retrieving movies for year 2013...\n",
      "Done in 32.0 minutes\n",
      "Retrieving movies for year 2012...\n",
      "Done in 31.0 minutes\n",
      "Retrieving movies for year 2011...\n",
      "Done in 31.0 minutes\n",
      "Retrieving movies for year 2010...\n",
      "Done in 31.0 minutes\n",
      "Retrieving movies for year 2009...\n",
      "Done in 32.0 minutes\n",
      "Retrieving movies for year 2008...\n",
      "Done in 37.0 minutes\n",
      "Retrieving movies for year 2007...\n",
      "502: retry 1\n",
      "502: retry 2\n",
      "502: retry 3\n",
      "502: retry 1\n",
      "502: retry 2\n",
      "502: retry 3\n",
      "502: retry 1\n",
      "502: retry 2\n",
      "502: retry 3\n",
      "502: retry 1\n",
      "502: retry 2\n",
      "502: retry 3\n",
      "502: retry 1\n",
      "502: retry 2\n",
      "502: retry 3\n",
      "502: retry 1\n",
      "502: retry 2\n",
      "502: retry 3\n",
      "Done in 41.0 minutes\n",
      "Retrieving movies for year 2006...\n",
      "Done in 31.0 minutes\n",
      "Retrieving movies for year 2005...\n",
      "Done in 29.0 minutes\n",
      "Retrieving movies for year 2004...\n",
      "Done in 25.0 minutes\n",
      "Retrieving movies for year 2003...\n",
      "Done in 23.0 minutes\n",
      "Retrieving movies for year 2002...\n",
      "Done in 21.0 minutes\n",
      "Retrieving movies for year 2001...\n",
      "Done in 18.0 minutes\n",
      "Retrieving movies for year 2000...\n",
      "Done in 17.0 minutes\n",
      "Retrieving movies for year 1999...\n",
      "Done in 16.0 minutes\n",
      "Retrieving movies for year 1998...\n",
      "Done in 15.0 minutes\n",
      "Retrieving movies for year 1997...\n",
      "Done in 14.0 minutes\n",
      "Retrieving movies for year 1996...\n",
      "Done in 13.0 minutes\n",
      "Retrieving movies for year 1995...\n"
     ]
    }
   ],
   "source": [
    "movies = database.movies\n",
    "discover_search = tmdb.Discover()\n",
    "\n",
    "max_retries = 3\n",
    "\n",
    "\n",
    "for year in reversed(range(1950, 2021)):\n",
    "    start = time.time()\n",
    "    print(\"Retrieving movies for year {0}...\".format(year))\n",
    "    info_results = discover_search.movie(page=1, primary_release_year=year)\n",
    "    \n",
    "    for page in range(1, info_results['total_pages'] + 1):\n",
    "        response = discover_search.movie(page=page, primary_release_year=year)['results']\n",
    "        movies_with_credits = []\n",
    "        for entry in response:\n",
    "            for retry in range(max_retries):\n",
    "                try:\n",
    "                    movies_search = tmdb.Movies(id=entry['id'])\n",
    "                    credits = movies_search.credits()\n",
    "                    entry['count_cast_gender_0'] = 0\n",
    "                    entry['count_cast_gender_1'] = 0\n",
    "                    entry['count_cast_gender_2'] = 0\n",
    "                    for cast_member in credits['cast']:\n",
    "                        if cast_member['gender'] == 1:\n",
    "                            entry['count_cast_gender_1'] += 1\n",
    "                        elif cast_member['gender'] == 2:\n",
    "                            entry['count_cast_gender_2'] += 1\n",
    "                        else:\n",
    "                            entry['count_cast_gender_0'] += 1\n",
    "                    movies_with_credits.append(entry)\n",
    "                    break\n",
    "                except HTTPError as e:\n",
    "                    if e.response.status_code in [404, 401] :\n",
    "                        break\n",
    "                    if e.response.status_code in [500, 502, 503, 504] :\n",
    "                        print(\"{0}: retry {1}\".format(e.response.status_code, retry + 1))\n",
    "                        time.sleep(retry**2)\n",
    "                        pass\n",
    "                    else:\n",
    "                        raise\n",
    "        if len(movies_with_credits) > 0:\n",
    "            movies.insert_many(movies_with_credits)\n",
    "    \n",
    "    end = time.time()\n",
    "    print(\"Done in {0} minutes\".format((end - start) // 60))\n"
   ]
  },
  {
   "cell_type": "code",
   "execution_count": null,
   "metadata": {},
   "outputs": [],
   "source": [
    "#movies.remove({})\n",
    "movies.count_documents({})"
   ]
  },
  {
   "cell_type": "code",
   "execution_count": null,
   "metadata": {},
   "outputs": [],
   "source": [
    "genres = database.genres\n",
    "tmdb.API_KEY = '34ed3ca4d3adae63d1bed1b1598bfbbb'\n",
    "search = tmdb.Genres()\n",
    "response = search.movie_list(page=page,primary_release_year=year)['genres']\n",
    "genres.insert_many(response)"
   ]
  },
  {
   "cell_type": "code",
   "execution_count": null,
   "metadata": {},
   "outputs": [],
   "source": [
    "#genres.remove({})\n",
    "genres.count_documents({})"
   ]
  },
  {
   "cell_type": "markdown",
   "metadata": {},
   "source": [
    "## Data description"
   ]
  },
  {
   "cell_type": "code",
   "execution_count": null,
   "metadata": {},
   "outputs": [],
   "source": [
    "import pandas as pd\n",
    "import numpy as np\n",
    "import matplotlib.pyplot as plt\n",
    "import seaborn as sns\n",
    "from collections import Counter\n",
    "% matplotlib inline"
   ]
  },
  {
   "cell_type": "code",
   "execution_count": null,
   "metadata": {},
   "outputs": [],
   "source": [
    "import sys\n",
    "from pymongo import MongoClient\n",
    "\n",
    "client = MongoClient('localhost', 27017, username='mongoadmin', password='pass1234')\n",
    "database = client['bda']\n",
    "movies = database.movies\n",
    "cursor = movies.find({},{ 'adult': 0, 'backdrop_path': 0, 'original_title': 0, 'overview': 0, 'poster_path': 0, 'video': 0, '_id': 0 })\n",
    "moviesdf = pd.DataFrame(list(cursor))"
   ]
  },
  {
   "cell_type": "code",
   "execution_count": null,
   "metadata": {},
   "outputs": [],
   "source": [
    "moviesdf.head()"
   ]
  },
  {
   "cell_type": "code",
   "execution_count": null,
   "metadata": {},
   "outputs": [],
   "source": [
    "moviesdf['original_language'].unique()"
   ]
  },
  {
   "cell_type": "code",
   "execution_count": null,
   "metadata": {},
   "outputs": [],
   "source": []
  },
  {
   "cell_type": "markdown",
   "metadata": {},
   "source": [
    "## Data cleaning\n",
    "## Data analysis\n",
    "## Conclusions"
   ]
  },
  {
   "cell_type": "code",
   "execution_count": null,
   "metadata": {},
   "outputs": [],
   "source": []
  }
 ],
 "metadata": {
  "kernelspec": {
   "display_name": "Python 3",
   "language": "python",
   "name": "python3"
  },
  "language_info": {
   "codemirror_mode": {
    "name": "ipython",
    "version": 3
   },
   "file_extension": ".py",
   "mimetype": "text/x-python",
   "name": "python",
   "nbconvert_exporter": "python",
   "pygments_lexer": "ipython3",
   "version": "3.8.3"
  }
 },
 "nbformat": 4,
 "nbformat_minor": 4
}
